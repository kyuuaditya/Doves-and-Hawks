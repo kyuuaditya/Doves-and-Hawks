{
 "cells": [
  {
   "cell_type": "markdown",
   "metadata": {},
   "source": [
    "Libraries"
   ]
  },
  {
   "cell_type": "code",
   "execution_count": 112,
   "metadata": {},
   "outputs": [],
   "source": [
    "import random\n",
    "import matplotlib.pyplot as plt"
   ]
  },
  {
   "cell_type": "markdown",
   "metadata": {},
   "source": [
    "Variables"
   ]
  },
  {
   "cell_type": "code",
   "execution_count": 113,
   "metadata": {},
   "outputs": [],
   "source": [
    "grid_size=10\n",
    "GRID_SIZE=grid_size\n",
    "doves=6\n",
    "hawks=4\n",
    "num_creatures=doves+hawks\n",
    "num_steps=100\n",
    "creature_count=0"
   ]
  },
  {
   "cell_type": "markdown",
   "metadata": {},
   "source": [
    "Terrain Class"
   ]
  },
  {
   "cell_type": "code",
   "execution_count": 114,
   "metadata": {},
   "outputs": [],
   "source": [
    "class terrain:\n",
    "  def __init__(self):\n",
    "    self.water = 0\n",
    "    self.food = 0\n",
    "    self.soil = 0\n",
    "    self.creatures_id = 0\n"
   ]
  },
  {
   "cell_type": "markdown",
   "metadata": {},
   "source": [
    "Creature Class"
   ]
  },
  {
   "cell_type": "code",
   "execution_count": 115,
   "metadata": {},
   "outputs": [],
   "source": [
    "class creature:\n",
    "  def __init__(self,creature_id,creature_type,x,y):\n",
    "    self.id = creature_id\n",
    "    self.type = creature_type\n",
    "    self.x = x\n",
    "    self.y = y\n",
    "    self.energy = 100\n",
    "    self.food_count = 0\n",
    "    self.age = 0\n",
    "    self.alive = True\n",
    "\n",
    "  def move(self):\n",
    "    global grid_size\n",
    "    self.x = (self.x + random.randint(-1,1)) % grid_size\n",
    "    self.y = (self.y + random.randint(-1,1)) % grid_size\n",
    "    self.energy -= 1\n",
    "    self.age += 1\n"
   ]
  },
  {
   "cell_type": "markdown",
   "metadata": {},
   "source": [
    "Fn: Initailize Creatures / birth"
   ]
  },
  {
   "cell_type": "code",
   "execution_count": 116,
   "metadata": {},
   "outputs": [],
   "source": [
    "def add_creatures(creatures,count,types):\n",
    "  for i in range(count):\n",
    "    creature_id = len(creatures) \n",
    "    creature_type = types\n",
    "    x = random.randint(0,grid_size-1)\n",
    "    y = random.randint(0,grid_size-1)\n",
    "    creatures.append(creature(creature_id,creature_type,x,y))\n",
    "  return None"
   ]
  },
  {
   "cell_type": "markdown",
   "metadata": {},
   "source": [
    "Fn: Show Statistics of each creature"
   ]
  },
  {
   "cell_type": "code",
   "execution_count": 117,
   "metadata": {},
   "outputs": [],
   "source": [
    "def show_stats (creatures):\n",
    "  for i in creatures:\n",
    "    print(f\"Id: {i.id}, Type: {i.type}, Position: ({i.x}, {i.y}), Energy: {i.energy}, food_count: {i.food_count}, Age: {i.age}, Alive: {i.alive}\")"
   ]
  },
  {
   "cell_type": "markdown",
   "metadata": {},
   "source": [
    "Fn: Move randomly"
   ]
  },
  {
   "cell_type": "code",
   "execution_count": 118,
   "metadata": {},
   "outputs": [],
   "source": [
    "def move_all_random(creatures):\n",
    "  for creature in creatures:\n",
    "    creature.move()"
   ]
  },
  {
   "cell_type": "markdown",
   "metadata": {},
   "source": [
    "Fn: Define terrain"
   ]
  },
  {
   "cell_type": "code",
   "execution_count": 119,
   "metadata": {},
   "outputs": [],
   "source": [
    "def initialize_terrain():\n",
    "    return [[terrain() for _ in range(GRID_SIZE)] for _ in range(GRID_SIZE)]"
   ]
  },
  {
   "cell_type": "markdown",
   "metadata": {},
   "source": [
    "Fn: Spawn Food"
   ]
  },
  {
   "cell_type": "code",
   "execution_count": 120,
   "metadata": {},
   "outputs": [],
   "source": [
    "def spawn_food(terrain):\n",
    "  for i in range(GRID_SIZE):\n",
    "    for j in range(GRID_SIZE):\n",
    "      terrain[i][j].food = random.randint(0,1)"
   ]
  },
  {
   "cell_type": "markdown",
   "metadata": {},
   "source": [
    "Main "
   ]
  },
  {
   "cell_type": "code",
   "execution_count": 121,
   "metadata": {},
   "outputs": [],
   "source": [
    "if __name__ == \"__main__\":\n",
    "  creatures = []\n",
    "  add_creatures(creatures,5,0)\n",
    "  add_creatures(creatures,5,1)"
   ]
  },
  {
   "cell_type": "code",
   "execution_count": 122,
   "metadata": {},
   "outputs": [
    {
     "name": "stdout",
     "output_type": "stream",
     "text": [
      "Id: 0, Type: 0, Position: (5, 9), Energy: 100, food_count: 0, Age: 0, Alive: True\n",
      "Id: 1, Type: 0, Position: (2, 1), Energy: 100, food_count: 0, Age: 0, Alive: True\n",
      "Id: 2, Type: 0, Position: (0, 2), Energy: 100, food_count: 0, Age: 0, Alive: True\n",
      "Id: 3, Type: 0, Position: (9, 1), Energy: 100, food_count: 0, Age: 0, Alive: True\n",
      "Id: 4, Type: 0, Position: (2, 0), Energy: 100, food_count: 0, Age: 0, Alive: True\n",
      "Id: 5, Type: 1, Position: (4, 6), Energy: 100, food_count: 0, Age: 0, Alive: True\n",
      "Id: 6, Type: 1, Position: (6, 9), Energy: 100, food_count: 0, Age: 0, Alive: True\n",
      "Id: 7, Type: 1, Position: (2, 9), Energy: 100, food_count: 0, Age: 0, Alive: True\n",
      "Id: 8, Type: 1, Position: (1, 1), Energy: 100, food_count: 0, Age: 0, Alive: True\n",
      "Id: 9, Type: 1, Position: (8, 2), Energy: 100, food_count: 0, Age: 0, Alive: True\n",
      " \n",
      "Id: 0, Type: 0, Position: (4, 8), Energy: 99, food_count: 0, Age: 1, Alive: True\n",
      "Id: 1, Type: 0, Position: (1, 2), Energy: 99, food_count: 0, Age: 1, Alive: True\n",
      "Id: 2, Type: 0, Position: (1, 2), Energy: 99, food_count: 0, Age: 1, Alive: True\n",
      "Id: 3, Type: 0, Position: (9, 1), Energy: 99, food_count: 0, Age: 1, Alive: True\n",
      "Id: 4, Type: 0, Position: (3, 9), Energy: 99, food_count: 0, Age: 1, Alive: True\n",
      "Id: 5, Type: 1, Position: (3, 6), Energy: 99, food_count: 0, Age: 1, Alive: True\n",
      "Id: 6, Type: 1, Position: (7, 9), Energy: 99, food_count: 0, Age: 1, Alive: True\n",
      "Id: 7, Type: 1, Position: (2, 0), Energy: 99, food_count: 0, Age: 1, Alive: True\n",
      "Id: 8, Type: 1, Position: (2, 1), Energy: 99, food_count: 0, Age: 1, Alive: True\n",
      "Id: 9, Type: 1, Position: (7, 1), Energy: 99, food_count: 0, Age: 1, Alive: True\n"
     ]
    }
   ],
   "source": [
    "show_stats(creatures)\n",
    "print(\" \")\n",
    "move_all_random(creatures)\n",
    "show_stats(creatures)\n",
    "terrain = initialize_terrain()\n",
    "spawn_food(terrain)\n"
   ]
  }
 ],
 "metadata": {
  "kernelspec": {
   "display_name": "Python 3",
   "language": "python",
   "name": "python3"
  },
  "language_info": {
   "codemirror_mode": {
    "name": "ipython",
    "version": 3
   },
   "file_extension": ".py",
   "mimetype": "text/x-python",
   "name": "python",
   "nbconvert_exporter": "python",
   "pygments_lexer": "ipython3",
   "version": "3.12.7"
  }
 },
 "nbformat": 4,
 "nbformat_minor": 2
}
