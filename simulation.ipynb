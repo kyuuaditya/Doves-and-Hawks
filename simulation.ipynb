{
 "cells": [
  {
   "cell_type": "markdown",
   "metadata": {},
   "source": [
    "Libraries"
   ]
  },
  {
   "cell_type": "code",
   "execution_count": 181,
   "metadata": {},
   "outputs": [],
   "source": [
    "import random\n",
    "import matplotlib.pyplot as plt"
   ]
  },
  {
   "cell_type": "markdown",
   "metadata": {},
   "source": [
    "Variables"
   ]
  },
  {
   "cell_type": "code",
   "execution_count": 182,
   "metadata": {},
   "outputs": [],
   "source": [
    "grid_size=10\n",
    "GRID_SIZE=grid_size\n",
    "doves=6\n",
    "hawks=4\n",
    "num_creatures=doves+hawks\n",
    "num_steps=100\n",
    "creature_count=0"
   ]
  },
  {
   "cell_type": "markdown",
   "metadata": {},
   "source": [
    "Terrain Class"
   ]
  },
  {
   "cell_type": "code",
   "execution_count": 183,
   "metadata": {},
   "outputs": [],
   "source": [
    "class terrain:\n",
    "  def __init__(self):\n",
    "    self.water = 0\n",
    "    self.food = 0\n",
    "    self.soil = 0\n",
    "    self.creatures_id = 0\n"
   ]
  },
  {
   "cell_type": "markdown",
   "metadata": {},
   "source": [
    "Creature Class"
   ]
  },
  {
   "cell_type": "code",
   "execution_count": 184,
   "metadata": {},
   "outputs": [],
   "source": [
    "class creature:\n",
    "  def __init__(self,creature_id,creature_type,x,y):\n",
    "    self.id = creature_id\n",
    "    self.type = creature_type\n",
    "    self.x = x\n",
    "    self.y = y\n",
    "    self.energy = 100\n",
    "    self.food_count = 0\n",
    "    self.age = 0\n",
    "    self.alive = True\n",
    "\n",
    "  def move(self):\n",
    "    global grid_size\n",
    "    self.x = (self.x + random.randint(-1,1)) % grid_size\n",
    "    self.y = (self.y + random.randint(-1,1)) % grid_size\n",
    "    self.energy -= 4\n",
    "    self.age += 1\n"
   ]
  },
  {
   "cell_type": "markdown",
   "metadata": {},
   "source": [
    "Fn: Initailize Creatures / birth"
   ]
  },
  {
   "cell_type": "code",
   "execution_count": 185,
   "metadata": {},
   "outputs": [],
   "source": [
    "def add_creatures(creatures,count,types):\n",
    "  for i in range(count):\n",
    "    creature_id = len(creatures) \n",
    "    creature_type = types\n",
    "    x = random.randint(0,grid_size-1)\n",
    "    y = random.randint(0,grid_size-1)\n",
    "    creatures.append(creature(creature_id,creature_type,x,y))\n",
    "  return None"
   ]
  },
  {
   "cell_type": "markdown",
   "metadata": {},
   "source": [
    "Fn: Show Statistics of each creature"
   ]
  },
  {
   "cell_type": "code",
   "execution_count": 186,
   "metadata": {},
   "outputs": [],
   "source": [
    "def show_stats (creatures):\n",
    "  for i in creatures:\n",
    "    print(f\"Id: {i.id}, Type: {i.type}, Position: ({i.x}, {i.y}), Energy: {i.energy}, food_count: {i.food_count}, Age: {i.age}, Alive: {i.alive}\")"
   ]
  },
  {
   "cell_type": "markdown",
   "metadata": {},
   "source": [
    "Fn: Move randomly"
   ]
  },
  {
   "cell_type": "code",
   "execution_count": 187,
   "metadata": {},
   "outputs": [],
   "source": [
    "def move_all_random(creatures):\n",
    "  for creature in creatures:\n",
    "    creature.move()"
   ]
  },
  {
   "cell_type": "markdown",
   "metadata": {},
   "source": [
    "Fn: Define terrain"
   ]
  },
  {
   "cell_type": "code",
   "execution_count": 188,
   "metadata": {},
   "outputs": [],
   "source": [
    "def initialize_terrain():\n",
    "    return [[terrain() for _ in range(GRID_SIZE)] for _ in range(GRID_SIZE)]"
   ]
  },
  {
   "cell_type": "markdown",
   "metadata": {},
   "source": [
    "Fn: Spawn Food"
   ]
  },
  {
   "cell_type": "code",
   "execution_count": 189,
   "metadata": {},
   "outputs": [],
   "source": [
    "def spawn_food(terrain):\n",
    "  for i in range(GRID_SIZE):\n",
    "    for j in range(GRID_SIZE):\n",
    "      if random.randint(0,1) == 1:\n",
    "        terrain[i][j].food = random.randint(0,1)"
   ]
  },
  {
   "cell_type": "markdown",
   "metadata": {},
   "source": [
    "Fn: Eat food"
   ]
  },
  {
   "cell_type": "code",
   "execution_count": 190,
   "metadata": {},
   "outputs": [],
   "source": [
    "def consume_food(creatures,terrain):\n",
    "  for i in creatures:\n",
    "    if terrain[i.x][i.y].food == 1:\n",
    "      i.food_count += 1\n",
    "      i.energy += 10\n",
    "      terrain[i.x][i.y].food = 0"
   ]
  },
  {
   "cell_type": "markdown",
   "metadata": {},
   "source": [
    "Main "
   ]
  },
  {
   "cell_type": "code",
   "execution_count": 191,
   "metadata": {},
   "outputs": [],
   "source": [
    "if __name__ == \"__main__\":\n",
    "  terrain = initialize_terrain()\n",
    "  creatures = []\n",
    "  add_creatures(creatures,5,0)\n",
    "  add_creatures(creatures,5,1)"
   ]
  },
  {
   "cell_type": "code",
   "execution_count": 192,
   "metadata": {},
   "outputs": [
    {
     "name": "stdout",
     "output_type": "stream",
     "text": [
      "Id: 0, Type: 0, Position: (5, 7), Energy: 100, food_count: 0, Age: 0, Alive: True\n",
      "Id: 1, Type: 0, Position: (9, 5), Energy: 100, food_count: 0, Age: 0, Alive: True\n",
      "Id: 2, Type: 0, Position: (6, 2), Energy: 100, food_count: 0, Age: 0, Alive: True\n",
      "Id: 3, Type: 0, Position: (9, 8), Energy: 100, food_count: 0, Age: 0, Alive: True\n",
      "Id: 4, Type: 0, Position: (0, 2), Energy: 100, food_count: 0, Age: 0, Alive: True\n",
      "Id: 5, Type: 1, Position: (0, 0), Energy: 100, food_count: 0, Age: 0, Alive: True\n",
      "Id: 6, Type: 1, Position: (0, 0), Energy: 100, food_count: 0, Age: 0, Alive: True\n",
      "Id: 7, Type: 1, Position: (8, 0), Energy: 100, food_count: 0, Age: 0, Alive: True\n",
      "Id: 8, Type: 1, Position: (4, 4), Energy: 100, food_count: 0, Age: 0, Alive: True\n",
      "Id: 9, Type: 1, Position: (3, 3), Energy: 100, food_count: 0, Age: 0, Alive: True\n",
      " \n",
      "Id: 0, Type: 0, Position: (9, 3), Energy: 120, food_count: 42, Age: 100, Alive: True\n",
      "Id: 1, Type: 0, Position: (6, 2), Energy: 60, food_count: 36, Age: 100, Alive: True\n",
      "Id: 2, Type: 0, Position: (7, 4), Energy: 20, food_count: 32, Age: 100, Alive: True\n",
      "Id: 3, Type: 0, Position: (8, 7), Energy: 120, food_count: 42, Age: 100, Alive: True\n",
      "Id: 4, Type: 0, Position: (5, 5), Energy: 40, food_count: 34, Age: 100, Alive: True\n",
      "Id: 5, Type: 1, Position: (9, 1), Energy: 100, food_count: 40, Age: 100, Alive: True\n",
      "Id: 6, Type: 1, Position: (3, 5), Energy: 140, food_count: 44, Age: 100, Alive: True\n",
      "Id: 7, Type: 1, Position: (6, 0), Energy: 180, food_count: 48, Age: 100, Alive: True\n",
      "Id: 8, Type: 1, Position: (3, 0), Energy: 90, food_count: 39, Age: 100, Alive: True\n",
      "Id: 9, Type: 1, Position: (4, 2), Energy: 140, food_count: 44, Age: 100, Alive: True\n"
     ]
    }
   ],
   "source": [
    "show_stats(creatures)\n",
    "for _ in range(num_steps):\n",
    "  spawn_food(terrain)\n",
    "  move_all_random(creatures)\n",
    "  consume_food(creatures,terrain)\n",
    "print(\" \")\n",
    "show_stats(creatures)\n",
    "# # show_stats(creatures)\n",
    "# # show_stats(creatures)\n",
    "  # spawn_food(terrain)\n",
    "# print(\" \")\n",
    "# move_all_random(creatures)\n",
    "# consume_food(creatures,terrain)\n",
    "# show_stats(creatures)\n"
   ]
  },
  {
   "cell_type": "code",
   "execution_count": 193,
   "metadata": {},
   "outputs": [
    {
     "data": {
      "text/plain": [
       "1"
      ]
     },
     "execution_count": 193,
     "metadata": {},
     "output_type": "execute_result"
    }
   ],
   "source": [
    "random.randint(0,1)"
   ]
  }
 ],
 "metadata": {
  "kernelspec": {
   "display_name": "Python 3",
   "language": "python",
   "name": "python3"
  },
  "language_info": {
   "codemirror_mode": {
    "name": "ipython",
    "version": 3
   },
   "file_extension": ".py",
   "mimetype": "text/x-python",
   "name": "python",
   "nbconvert_exporter": "python",
   "pygments_lexer": "ipython3",
   "version": "3.12.7"
  }
 },
 "nbformat": 4,
 "nbformat_minor": 2
}
